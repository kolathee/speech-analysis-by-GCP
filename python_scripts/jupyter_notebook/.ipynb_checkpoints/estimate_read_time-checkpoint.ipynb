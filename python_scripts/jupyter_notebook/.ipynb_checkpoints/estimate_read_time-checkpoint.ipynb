{
 "cells": [
  {
   "cell_type": "markdown",
   "metadata": {},
   "source": [
    "# Read Time"
   ]
  },
  {
   "cell_type": "markdown",
   "metadata": {},
   "source": [
    "Medium : https://blog.medium.com/read-time-and-you-bc2048ab620c\n",
    "\n",
    "> Read time is based on the average reading speed of an adult (**roughly 275 WPM **). We take the total word count of a post and translate it into minutes. Then, we **add 12 seconds for each inline image**. Boom, read time."
   ]
  },
  {
   "cell_type": "markdown",
   "metadata": {},
   "source": [
    "## Words per minute \n",
    "[*From Wikipedia, the free encyclopedia*](https://en.wikipedia.org/wiki/Words_per_minute)\n",
    "\n",
    "**Words per minute, commonly abbreviated WPM**, is a measure of words processed in a minute, often used as a measurement of the speed of typing, reading or Morse code sending and receiving.\n",
    "\n",
    "Since the length or duration of words is clearly variable, for the purpose of such measurement, the definition of each word is often standardized to be five characters or keystrokes long in English, including spaces and punctuation. For example, under such a method applied to plain English text the phrase \"I run\" counts as one word, but \"rhinoceros\" and \"let's talk\" would both count as two.\n",
    "\n",
    "### Reading and comprehension\n",
    "Words per minute is a common metric for assessing reading speed and is often used in the context of remedial skills evaluation, as well as in the context of speed reading, where it is a controversial measure of reading performance.\n",
    "\n",
    "A word in this context is the same as in the context of speech.\n",
    "\n",
    "Research done in 2012[14] measured the speed at which subjects read a text aloud, and found the average speed across 17 different languages to be 184±29 WPM or 863±234 CPM. However, for the languages that use the Latin or Cyrillic alphabets, the number of WPM varied, as low as 161±18 for Finnish and as high as **228±30 for English**. The reason for this is different word structures in each language (longer words in such languages as Finnish and shorter words in English). \n",
    "\n",
    "> However, **the number of characters per minute tends to be around 1000 for all the tested languages**. For the tested Asian languages that use particular writing systems (Arabic, Hebrew, Chinese, Japanese) these numbers are lower.\n",
    "\n",
    "Scientific studies have demonstrated that reading—defined here as capturing and decoding all the words on every page—faster than 900 wpm is not feasible given the limits set by the anatomy of the eye.[15]\n",
    "\n",
    "While proofreading materials, people are able to read English at 200 WPM on paper, and 180 WPM on a monitor.[16] [Those numbers from Ziefle, 1998, are for studies that used monitors prior to 1992. See Noyes & Garland 2008 for a modern tech view of equivalence.]"
   ]
  },
  {
   "cell_type": "code",
   "execution_count": 24,
   "metadata": {},
   "outputs": [],
   "source": [
    "def readTime(text,img_num):\n",
    "    len_text = len(text)\n",
    "    read_time = (len_text/1000)*60 + img_num*12\n",
    "    return read_time"
   ]
  },
  {
   "cell_type": "code",
   "execution_count": 25,
   "metadata": {},
   "outputs": [],
   "source": [
    "test_text = 'ทุกวันนี้ผมไม่ค่อยเล่น Social Media เท่าไหร่แล้ว มีที่ใช้ทุกวันก็ Line อย่าง Facebook, Instagram นี่เข้าเดือนละ 2-3 ครั้ง จากแต่ก่อนเล่นมันได้ทั้งวัน สไลด์ทามไลน์ได้ไม่รู้เบื่ออาจจะดูแปลกในเมื่อทุกวันนี้ใครๆก็เล่น Social Media กันวันละหลายเวลา ทำให้มีเพื่อนถามผมบ้างว่าเป็นไร ทำไมเดี๋ยวนี้ไม่เล่น? มีมือถือไม่เล่น Facebook แล้วเอาไว้ทำไร? ฯลฯ ซึ่งเหตุผลของผมมันก็ยาวมาก ทำให้หลายครั้งผมก็ไม่ได้ตอบแบบจริงจังสักเท่าไหร่จนไม่นานมานี้ผมพบว่าไอ้อาการแบบนี้ไม่ได้มีแค่ผมคนเดียวที่เป็น เริ่มจากเพื่อนสนิทผม เพื่อนเก่าที่ไม่เจอกันนาน แม่ของญาติห่างๆ ...มีคนเป็นกันเยอะครับ ผมได้สอบถามถึงเหตุผลของแต่ละคน พบว่าทุกคนมีเหตุผลที่สะท้อนสภาพในใจบางอย่างที่คล้ายกันอยู่ในเมื่อมีคนเป็นเยอะขนาดนี้ ประกอบกับอาการของแต่ละคนก็คล้ายๆกัน ผมจึงคิดว่า \"พฤติกรรมนี้\" มันน่าจะมีคนออกมาอธิบายที่มาที่ไป หรืออาจจะตั้งชื่อเท่ๆให้มันแล้วด้วยซ้ำ นี่แหละที่ทำให้ผมอยากรู้เรื่องนี้แบบลึกซึ้ง (คิดไว้ว่าถ้ามีเพื่อนถามอีกผมก็บอกชื่อมันไปสั้นๆได้เลย) จึงเริ่ม Google ดู จนพบว่ามีคนออกมาพูดถึงมันอย่างน้อย 2-3 ปีได้แล้ว ซึ่งผมได้เรียบเรียงตามความเข้าใจของตัวเองแล้วสรุปมาให้คุณๆได้อ่านกันแล้วครับFacebook (FB) คืออะไร?อย่าพึ่งเบื่อนะ ผมรู้ว่าคุณรู้จักมัน แต่ก่อนจะเข้าเรื่องเราควรเข้าใจสักหน่อยว่าไอ้เจ้า FB เนี่ยมันคืออะไร แล้วทำไมมันถึงทำร้ายเราได้ซู้ดดด...เพลงมา! ในบรรดา Social Media FB เป็นแพลตฟอร์มที่คนเล่นกันเยอะที่สุด มันเป็นแพลตฟอร์มที่ดีมากในการพรีเซ้นการใช้ชีวิตของพวกเรา ถ้าคุณเป็นคนที่เข้าสังคมเก่ง มีเพื่อนมากอยู่แล้วในโลกจริง ชีวิตการงานดี FB ก็จะสะท้อนสิ่งเหล่านั้นออกมาแก่คุณและเพื่อนคุณด้วย ซึ่งนั่นคือสิ่งดีเพราะมันทำให้คุณน่าสนใจในโลกของ FB ด้วยเหมือนกัน แต่หากเป็นกรณีตรงข้าม คุณมีเพื่อนน้อย ไม่ชอบเข้าสังคม ชีวิตแย่ ก็จะทำให้เนื้อหาของตัวคุณบน FB ดูไม่น่าสนใจนอกจากนี้ FB ยังทำให้เราเชื่อมความสัมพันธ์กับคนอื่นได้ใกล้เคียงกับการเชื่อมความสัมพันธ์ในโลกจริงมาก ไม่ใช่แค่ความสัมพันธ์แบบออนไลน์เท่านั้น ในอตีตคนชอบแชทออนไลน์เพราะว่ามันทำให้พวกเค้าได้พูดคุยกับคนอื่นโดยที่ไม่ต้องเปิดเผยรายละเอียดของตัวเองเลย (ทำให้ทุกคนเท่าเทียมกัน แต่ไม่สนิทใจ) แต่ FB ทำตรงข้าม มันสะท้อนสถานะทางสังคมในโลกจริงของคนที่เล่น ทุกคนสามารถเห็นสถานะทางสังคมของคุณได้จากยอดไลค์สเตตัสของคุณ ภาพที่คุณถูกแท็ก หรือจำนวนคนที่ติดตามคุณจะเข้าเรื่องละน้า กลุ่มคนที่ผมพูดถึงในบทความนี้รวมทั้งตัวผมเองที่ทุกวันนี้แทบไม่เล่น FB แล้ว จะบอกว่าพวกเราไม่ได้เป็นแบบนี้มาตั้งแต่แรกนะครับ เมื่อก่อนพวกเราก็ชอบเล่น FB เหมือนกับคนอื่น บางคนนี่เล่นหนักมากเลยด้วย ถึงขนาดที่วันนึงต้องโพสต์อะไรสักอย่าง ไม่งั้นนอนไม่หลับ ...แล้วทำไมอยู่ๆพวกเราถึงเลิกเล่นหละ?ปรากฎการณ์ 100(+1000)%ผมเข้าใจว่าคนทำ FB ตั้งใจทำให้​ FB เป็นแพลตฟอร์มที่สะท้อนสถานะทางสังคมของคนที่เล่นให้ใกล้เคียงกับความเป็นจริง เพื่อเป็นจุดเริ่มในการสร้างความสัมพันธ์ในมิติอื่นๆ ได้สมจริงใกล้เคียงกับการเริ่มสร้างความสัมพันธ์ในโลกจริงที่สุดแต่จำที่ผมบอกไว้ในย่อหน้าก่อนได้ไหมครับ ในโลกของ FBคนอื่นสามารถเห็นสถานะทางสังคมของคุณได้จากยอดไลค์สเตตัสของคุณ ภาพที่คุณถูกแท็ก หรือจำนวนคนที่ติดตามคุณนี่แหละครับที่กลายเป็นจุดเริ่มต้น ทำให้คนบางกลุ่ม (ผมว่าแม่งส่วนใหญ่เลยแหละตอนนี้) เริ่มสร้างภาพเพื่อปั๊ม \"ยอดไลค์สเตตัส และจำนวนคนที่ติดตาม\" เพื่อแสดงถึงสถานะทางสังคมที่โคตรจะเกินจริงแบบ 100(+1000)% (ต่อไปนี้ผมจะเรียกคนกลุ่มนี้ว่าพวก 100(+1000)% นะครับ) Credit : Van Salasแน่นอนว่าในทามไลน์ FB ของคุณๆก็คงมีเพื่อนบางคนที่เป็นพวก 100(+1000)% อยู่แล้ว ไม่ใช่เรื่องแปลกเลย ปรากฎการณ์นี้เกิดขึ้นกับทามไลน์ของทุกคน ซึ่งคนส่วนมากไม่ได้ทุกข์ร้อนอะไรกับมันครับ มีเพียงคนส่วนน้อยเท่านั้นที่จะทนกับไอ้ปรากฎการณ์นี้ไม่ได้ชนกลุ่มน้อยผู้อ่อนไหวในเมื่อความน่าสนใจของคนใน FB อยู่ที่จำนวนรูปภาพ และกิจกรรมที่โพสต์ ดังนั้นหากคุณเป็นคนที่อยู่คนเดียวมีชีวิตประจำวันที่น่าเบื่อไม่มีเพื่อนในโลกจริงให้สร้างภาพเหล่านี้จะทำให้คุณกลายเป็นชนชั้นล่างใน FB ซึ่งเราจะนิยามคนที่ทุกร้อนจากปรากฎการณ์ 100(+1000)% แล้วมีการใช้ชีวิตแบบนี้ว่ากลุ่มคนขี้เหงา (Loner)อีกกรณีหนึ่งก็คือเมื่อทามไลน์ของคุณเต็มไปด้วยเพื่อนที่มีทุกอย่าง(แต่คุณกลับไม่มีอะไรเลย) ซึ่งสิ่งที่สร้างภาพลง FB ได้ แล้วก่อให้เกิดการเปรียบเทียบก็เช่นเพื่อนคุณได้ไปเที่ยวที่เจ๋งๆเพื่อนคุณประสบความสำเร็จในหน้าที่การงานเพื่อนมีครอบครัวที่อบอุ่นเพื่อนได้ทำตามฝันและมีชีวิตที่มีความสุขแต่คุณไม่ใช่ซึ่งเราจะนิยามคนที่ทนเห็นความสำเร็จของคนอื่นไม่ได้ว่าคนไม่เอาถ่าน (Loser)ทั้งหมดนี้คือกลุ่มคนที่มีโอกาสจะทุกข์ตอนเล่น FB ...เมื่อมองจากตรงนี้ก็พอเข้าใจได้นะครับว่าทำไมพวกเค้าถึงไม่ชอบ FB แต่มันก็ยังตอบคำถามที่ว่า แล้วทำไมเมื่อก่อนพวกเค้าชอบ FB หละ? ไม่ได้ (หากคุณงง แสดงว่าคุณลืมแล้ว 555)จำได้ไหมครับที่ผมเคยบอกไว้ต้นๆบทความ ที่ว่าพวกเขาไม่ได้เป็นแบบนี้มาตั้งแต่แรกนะครับ เมื่อก่อนพวกเขาก็ชอบเล่น FB เหมือนกับคนอื่น บางคนนี่เล่นหนักมากเลยด้วย ถึงขนาดที่วันนึงต้องโพสต์อะไรสักอย่าง ไม่งั้นนอนไม่หลับดังนั้นเพื่อจะตอบคำถามนี้ให้ได้ ผมจึงสรุปเอาเองจากข้อมูลทั้งหมดที่มีทั้งจากตัวเอง คนรู้จักและที่ได้อ่านเพิ่มมา ได้ข้อสรุปว่าในตอนที่พวกเขาเหล่านี้ยังชอบ FB อยู่นั้น เมื่อก่อนพวกเขาไม่ได้เป็น Loner หรือ Loser ครับ! อีกนัยหนึ่งก็คือพวกเค้าพึ่งมาเป็นแบบนี้กันได้ไม่นานสำหรับ Loner(มือใหม่) เมื่อก่อนเค้ามีเพื่อนเยอะมาก่อนครับ แต่ทุกวันนี้พวกเพื่อนๆเขาก็ยังเกาะกลุ่มกันอยู่เหมือนเดิม มีเพียงเขาคนเดียวที่ไม่มีใครเลย อาจเพราะต้องไปทำงาน หรือเรียนในที่ห่างไกล ฯลฯส่วน Loser(มือใหม่) คือเมื่อก่อนเคยเป็นคนเอาถ่านมาก่อน ทำให้ชีวิตเมื่อก่อนมีเพื่อนเจ๋งๆเยอะ แต่ทุกวันนี้เพื่อนเค้าก็ยังเจ๋งอยู่ มีเพียงเค้าคนเดียวที่ไม่เจ๋งเหมือนเดิมซึ่งมันบ่งว่า ปัญหาของคนกลุ่มนี้ก็คือการมองไปยังชีวิตในปัจจุบันของคนที่มีความสัมพันธ์ร่วมกันในอดีต โดยมันจะทำให้พวกเขาเจ็บ ถ้าหากเพื่อนๆของเขาก้าวหน้าไปไกลมากเกินกว่าที่เขาทำได้ ยิ่งถ้าเจอเพื่อนที่ก้าวหน้าแล้วชีวิตดี๊ดีแบบ 100(+1000)% ก็อาจถึงขั้นจุกได้นอกจากนี้เท่าที่ผมสังเกตมาจากประสบการณ์ส่วนตัว ไม่ใช่ว่าคนกลุ่มนี้ทุกคนจะไม่ชอบ FB นะครับ แต่คนที่ไม่ชอบ FB ทุกคน ถ้าไม่เป็น Loser ก็อาจจะเป็น Loner หรือไม่ก็เป็นทั้งคู่เลยทางออกที่เลือกใช้ไม่ว่าจะเป็น Loser หรือ Loner ก็แก้ปัญหานี้ได้ด้วยวิธีการเดียวกัน เท่าที่ผมอ่านมาเจอทางเลือกอยู่ 2 วิธีครับแก้ที่ใจตัวเอง ก็เข้าใจได้ว่าตอนนี้สังคมบน FB เป็นแบบ 100(+1000)% ซะส่วนใหญ่ จนหลายครั้งเราก็รู้สึกได้ว่า \"มันจะอวดอะไรขนาดนั้นวะ มันช่างตื้นเขินจริงๆ\" ...ตรงนี้เราต้องปรับพฤติกรรมตัวเอง เปลี่ยนเป็นชมเค้า ยินดีไปกับเค้า อิจฉาก็บอกอิจฉา สำคัญคือเราไม่ควรเก็บความรู้สึกอัดอั้นไว้ในใจ รู้สึกยังไงก็บ่นออกไปให้โลกรู้บ้าง (อันนี้เค้าบอกมา ไม่เคยลองเหมือนกันนะครับ 55)ลด ละ เลิกมันซะ ในเมื่อสิ่งที่อยู่บนทามไลน์ไม่ได้กระตุ้นให้เรารู้สึกดี มีแรง แถมยังบั่นทอนจิตใจเราอีกด้วย ก็ควรจะลดการเสพลงครับ แน่นอนว่าการรู้ทันข่าวสารเป็นสิ่งดี แต่หลายครั้งที่ผมรู้สึกว่าการรู้เรื่องของชาวบ้านมากเกินไปกลับทำให้เราหลุดโฟกัสจากเป้าหมายของตัวเอง เช่น เห็นคนอื่นเค้าไปเที่ยว ในขณะที่เรากำลังทำงานใหญ่อยู่ เราก็มีใจอยากเที่ยวบ้าง กลายเป็นว่าเอาใจออกห่างจากงานตัวเองซะงั้น (ส่วนตัวผมมองว่านี่แม่งโคตรจะอันตรายเลยครับ) ดังนั้นผมจึงหันไปอ่านข่าวจากแหล่งอื่นแทน ...ก็ไม่ได้รู้สึกล้าหลัง หรือไม่ทันข่าวอะไรนะครับสุดท้ายนี้ไม่ว่าคุณจะเป็นแบบไหนในโลกของ FB แต่ก็อยากให้ลองถามตัวเองดูนะครับว่า\"เราเล่น Facebook เพื่ออะไร?\"มนุษย์เราชอบสร้างความหมายให้กับสิ่งต่างๆอยู่แล้ว อย่างเช่นความหมายของชีวิตตัวเอง แน่นอนว่าความหมายที่เราเลือกนั้น จะกำหนดวิธีการใช้ชีวิตของเรา ซึ่งจะสะท้อนออกมาเป็น สิ่งที่เราทำ ก่อให้เกิดตัวตนของเราสำหรับผม ผมใช้ FB เพื่อขอบคุณสิ่งดีๆที่ผมได้รับ บันทึกการเดินทาง การใช้ชีวิต เก็บความทรงจำที่มีความสุข แชร์สิ่งที่ชอบและสนใจ ไม่ได้เอาไว้ตามข่าว หรือส่องเรื่องของคนอื่น ดังนั้น จะไม่ได้เห็นอะไรที่มันเศร้า น่ากลัว บนทามไลน์ของผม และจะไม่ค่อยเห็นผมไปไลค์ หรือคอมเมนท์ บนสเตตัสใครนัก (ก็เข้าแค่เดือนละ 2 ครั้งอะ)อ่านมาจนถึงตรงนี้คนสติดีอาจจะงงแล้วว่า แล้ว Timeline Phobia อะ? ยังไม่ได้อธิบายเลยนี่? จะบอกว่าจริงๆแล้วชื่อเท่ๆของไอ้อาการนี้ผมหาไม่เจอจริงๆครับ เลยตั้งเองเลย โดยผมจะเรียกมันว่า \"Timeline Phobia\" ซึ่งหมายถึงโรคของคนที่กลัวทามไลน์ ไม่ว่าจะเป็นทามไลน์ของ FB, IG หรือ Social Media อื่นๆ :) ...สุดท้ายนี้ขอบคุณมากครับที่อ่านจนจบ นายมัน FC ตัวจริง แล้วเจอกันอีกครับ Bye'"
   ]
  },
  {
   "cell_type": "markdown",
   "metadata": {},
   "source": [
    "<img src=\"loner.png\" width=\"400\">"
   ]
  },
  {
   "cell_type": "code",
   "execution_count": 26,
   "metadata": {},
   "outputs": [
    {
     "name": "stdout",
     "output_type": "stream",
     "text": [
      "519.1800000000001 sec\n"
     ]
    }
   ],
   "source": [
    "print(readTime(test_text,6),'sec')"
   ]
  },
  {
   "cell_type": "markdown",
   "metadata": {},
   "source": [
    "<img src=\"child.png\" width=\"800\">"
   ]
  },
  {
   "cell_type": "code",
   "execution_count": 27,
   "metadata": {},
   "outputs": [],
   "source": [
    "test_text2 = \"Eons ago, a couple of Medium engineers got fed up. They were sick of having to scroll all the way down the page to see how long a story was. It was wearing out their trackpad, it was making their fingers sore, and they figured there must be a better way. So they sat down and devised a simple formula, and the Medium read time was born.With the widespread adoption of this feature across the internet, we decided to shed some light on exactly what goes in to our read time calculation.Read time is based on the average reading speed of an adult (roughly 275 WPM). We take the total word count of a post and translate it into minutes. Then, we add 12 seconds for each inline image. Boom, read time.Lately, we have seen more and more long form stories containing a ton of images. With our release of image grids, we expect even more of these types of essays.Our original read time calculation was geared toward “slow” images, like comics, where you would really want to sit down and invest in the image. This resulted in articles with crazy big read times. For instance, this article containing 140 images was clocking in at a whopping 87 minute read. So we amended our read time calculation to count 12 seconds for the first image, 11 for the second, and minus an additional second for each subsequent image. Any images after the tenth image are counted at three seconds.You might see this change reflected across the site. Keep in mind that our estimated read time is just that: an estimation. You might finish a story faster or slower depending on various factors such as how many children or cats you have, your caffeine/alcohol intake, or if you’re a time-traveler from the future and already read that story. We just want to give you a ballpark figure so you can decide whether you have time to read one more story before the bus comes, or if you should bookmark it for later.We aren’t done with read time yet. In the future, we’d like to tailor it to your reading speed, account for the complexity of an article, and add support for other languages. We’ll be sure to let you know about these changes as they happen.Thanks to Gueldner, Pete Davies, and Sarah Agudo.\""
   ]
  },
  {
   "cell_type": "code",
   "execution_count": 28,
   "metadata": {},
   "outputs": [
    {
     "name": "stdout",
     "output_type": "stream",
     "text": [
      "130.14000000000001 sec\n"
     ]
    }
   ],
   "source": [
    "print(readTime(test_text2,0),'sec')"
   ]
  },
  {
   "cell_type": "markdown",
   "metadata": {},
   "source": [
    "<img src=\"est2.png\" width=\"800\">"
   ]
  },
  {
   "cell_type": "code",
   "execution_count": 29,
   "metadata": {},
   "outputs": [],
   "source": [
    "test_text4 = 'Olympics 2018: Going beyond the games.Six perspectives on the tech to the traditions, and everything in between.Long gone are the days when we huddled around a shared television to watch the Olympics with rapt attention. Still, millions of us will tune into the Games this winter. We’ll cheer for our home countries, root for the underdogs, and eagerly wait for (or at times hide from) lists of winners and losers. The Games ignite a patriotic spirit, sure, but also a humbling appreciation for the precision and brilliance of our athletes. These moments make the world feel like a much smaller, friendlier place.We know the Olympics are about more than the medals, the victories, and the heartbreaking defeats. That’s why, as the PyeongChang games officially kick off today, we’ve gathered six unique perspectives on parts of the Olympics that don’t usually make headlines. From an on-the-ground journalist’s dispatch and to a brief history of its iconography, we hope these reads bring another layer of depth, understanding, and appreciation to these spectacular Games.With every Olympics comes a special set of “athletes.” No, these aren’t each countries’ top talent, they’re the Olympic pictograms designed uniquely for each Game. Chief Creative Officer for Weber Shandwick and LA-based artist Josh S. Rose takes us on a design journey through pictograms of the past — the evolution of style, the thread of cultural pride that runs throughout them all, and what makes PyeongChang’s set one for the books.PyeongChang will play host to the first female Nigerian bobsled team — a historic moment but one rife with conflict. The three athletes are American-born but opting to race under the flag of their ancestral country. This decision, made with the hope of helping to represent Nigeria in a positive light, inspired this piece from journalist and Nigerian-American Ezinne Ukoha. Ukoha regularly writes about the conflict she feels between her homeland and America, but in light of this bobsled team, she argues we’re giving Nigeria a level of respect and admiration it falls very short of deserving.The Olympics are more than a sporting event — they’re also a technology event. An intricate circuitry of recording and tracking devices bring the Games into your living room (or your phone). Tech journalist Lance Ulanoff, shares some of the new technologies being used to make this Olympics a moment in tech history. He outlines the VR experiences bringing the half-pipe inches from your eyes, the hundreds of drones capturing (and making their own) aerial action, and the illusive 5G network making the at-home experience bigger, stronger, and faster.At only 17, Korean-American snowboarder Chloe Kim has already accomplished a lot. She’s the first woman to land back-to-back 1080 spins in competition, score a perfect 100 at the X Games, and bring home a gold from the Youth Olympic Games in 2016. But this year, Kim takes on the biggest challenge yet — her first Olympics. And expectations are high. Inspired by Kim’s story, graphic novelist Ryan Luikens draws a personal, poignant tale, capturing the sacrifices that athletes make to pursue victory, the motivations that keep them moving, and — ultimately — what it really means to win gold. The story is told with a mix of original illustrations and text, featuring both English and Korean translations.Most of us watch the Olympics from behind a screen, and we often forget the army of dedicated reporters, producers, camera crews, and more who are tirelessly working to help us feel every throw, jump, and dramatic dive across the finish line. Mary Pilon, a sports journalist who covered the 2012 London and 2014 Sochi Games for the New York Times and was an NBC producer for Rio in 2016, shares her view from the other side of the lens. From grueling days to behind-the-scenes relationships to not-so-luxurious accommodations (hint: Sochi hotel room) and even almost being hit by a javelin, we get a rare view of another form of Olympic sprinting, jumping, and spinning.Essayist Zaron Burnett III shares a personal essay about his first time barreling down the mountain, unable to turn or stop. And while he (spoiler!) does crash and burn, the inevitable fall pales in comparison to conquering the stereotype that “black people don’t ski.” Burnett’s piece compares his personal story of being the only black person on the mountain to the scarcity of black athletes competing at the Winter Olympics. But just as he broke a barrier (with admittedly far less grace), we’re now seeing more and more black athletes donning their country’s colors in hopes of gliding, sledding, and skating to gold.'"
   ]
  },
  {
   "cell_type": "markdown",
   "metadata": {},
   "source": [
    "<img src=\"olympic.png\" width=\"800\">"
   ]
  },
  {
   "cell_type": "code",
   "execution_count": 30,
   "metadata": {},
   "outputs": [
    {
     "name": "stdout",
     "output_type": "stream",
     "text": [
      "351.17999999999995 sec\n"
     ]
    }
   ],
   "source": [
    "print(readTime(test_text4,6),'sec')"
   ]
  },
  {
   "cell_type": "code",
   "execution_count": 31,
   "metadata": {},
   "outputs": [],
   "source": [
    "test_text3 = \"จากบทความของน้องปันเจ ส่องปัญหาวิกฤติโปรแกรมเมอร์ไทย แก้อย่างไรดี? เลยคิดถึงงานด้าน data scientist ขึ้นมาบ้าง สายงานนี้ก็หาคนได้วิกฤติไม่แพ้กัน ตอนนี้ก็เกิดปัญหาหาตัว data scientist กันสุดฤทธิ์ จริงๆ แล้ว data scientist เป็นงานที่ในตลาดแรงงานมีความต้องการสูงมาก ในขนาดเดียวกัน ก็มีคนอยากทำงานด้าน data scientist เยอะมากด้วยเช่นกัน ฟังดูเหมือนว่าจะตอบโจทย์กันได้ แต่แล้วทำไมถึงยังบอกว่า data scientist ถึงหายากกันอีกล่ะบริษัทต้องการคนมีประสบการณ์หลายๆ บริษัทอยากได้คนมีประสบการณ์ด้าน data scientist มาเข้าทำงาน ซึ่งก็จะมีเหตุผลประมาณเดียวกัน คือ อยากได้คนที่เข้ามาทำงานได้เลย อีกทั้งบริษัทหลายๆ ที่เองก็กำลังตื่นตัวจะสร้างทีม data scientist ขึ้นมาภายในองค์กร ทำให้อยากได้คนที่มีประสบการณ์แล้ว มาช่วยจัดตั้งทีมหรือมานำทีมให้ แน่นอนว่า คนที่จะมาช่วยนำทีมในช่วงตั้งทีมแรกๆ หากให้คนที่ไม่มีประสบการณ์มาทำ ก็อาจจะดูสุ่มเสี่ยงไปหน่อย ดังนั้นมันก็หลีกเลี่ยงยากที่จะหาคนที่มีประสบการณ์มารับหน้าที่ตรงนี้ไปบางบริษัทก็ใช้วิธีรับเด็กจบใหม่ที่เก่งๆ เข้ามา เพื่อที่จะเอามาฝึกมาปั้นเองในองค์กร แต่นั่นแหละ การที่จะมาปั้นเด็กใหม่ๆ ก็ต้องอาศัยคนที่มีประสบการณ์ด้าน data scientist มาช่วยเทรนเด็กจบใหม่เหล่านี้อยู่ดี จนก็ต้องกลับไปที่ปัญหาเดิม คือ บริษัทอยากได้คนมีประสบการณ์เข้ามาทำงานตำแหน่งนี้2. บริษัทใหญ่ๆ ใช้เงินซื้อตัว บริษัทเล็กเลยลำบากเนื่องจากว่า data scientist นั้นยังมี demand ที่สูงมากในตลาดแรงงานตอนนี้ ยิ่งถ้ามีประสบการณ์หรือมีโปรไฟล์ดีๆ ก็จะยิ่งเป็นที่ต้องการมาก ต่างบริษัทต่างก็รีบควานหาคนเก่งๆ ที่มีประสบการณ์มาทำงานกับองค์กรของตัวเองให้ได้ หลายบริษัทก็กลัวบริษัทคู่แข่งจะได้คนเก่งๆ ไป ทำให้เกิดการงัดกลยุทธ์ต่างๆ มาใช้ในการดึงตัวคนเข้าไป รวมไปถึงการให้อัตราเงินเดือนที่สูงมากเป็นสิ่งล่อใจให้คนเก่งๆ อยากมาทำงานด้วย จริงๆ ฟังดูแล้วเหมือนจะดีต่อคนทำงานด้าน data scientist แต่ปัญหาที่ตามมาก็คือ บริษัทเล็กๆ ที่กำลังเงินไม่ถึง ยิ่งทำให้การหาคนมาทำงานยิ่งยากขึ้นไปอีก หลายๆ คนที่มาสมัครงานด้านนี้ ก็เรียกเงินเดือนกันสูงมาก เพราะเห็นอัตราเงินเดือนขององค์กรใหญ่ๆ ที่ให้กันสูงมากเลยทั้งนั้น ทำให้การหา data scientist ที่ว่ายากอยู่แล้ว กลับเป็นยากหนักหนาเข้าไปอีกสำหรับบริษัทเล็ก3. บริษัท และ คนสมัคร มีความคาดหวังในงาน data scientist ที่ต่างกันบริษัทใหญ่หลายๆ บริษัทได้มีการตื่นตัวในการตั้งทีม data scientist ในองค์กรมากขึ้น ยิ่งมีคำว่า digital disruption หรือคำว่า digital transformation ซึ่งกำลังเป็นที่นิยมกันมากในองค์กรไทยหลายๆ ที่ ทำให้หลายๆ องค์กรรีบจัดตั้งทีม data scientist และรีบ recruit คนเข้ามาก่อนโดยที่ก็ยังไม่มีลักษณะงานที่แน่ชัดว่าจะให้เข้ามาทำอะไร หรือแม้กระทั่งยังไม่รู้ด้วยซ้ำว่างาน data scientist คืออะไรกันแน่ อีกอย่างคำว่า data scientist มันก็ไม่ได้มีนิยามที่ชัดเจนแน่นอน คำนิยามของแต่ละบริษัทอาจจะไม่เหมือนกัน ทำให้บริษัทและคนทำงานก็ให้ความคาดหวังกับคำว่า data scientist ที่แตกต่างกันออกไปเมื่อบริษัทรับคนเข้ามาทำงานแล้ว หลายครั้งที่งานที่ให้ไม่ได้ตรงกับที่คนสมัครคาดหวังไว้ ซึ่งก็จะมีผลต่อคนทำงานแตกต่างกันออกไป บางคนก็มองงาน data science ในแง่ร้ายไปเลย บางคนก็รู้สึกว่าความรู้ของตัวเองไม่ตรงกับงาน รู้สึกท้อกับการทำงาน หรือ สุดท้ายบางคนก็ตัดสินใจที่จะย้ายบริษัทไปเลย ซึ่งนั่นก็ทำให้บริษัทยิ่งขาดคนเข้าไปอีกเขียนมาถึงตรงนี้ เลยขอแถมอีกประเด็นเข้ามาด้วยเลย เพราะคำว่า digital transformation ซึ่งนั่นหมายถึงบริษัทจะต้องการเปลี่ยนแปลง การเปลี่ยนแปลงที่ว่าเป็นสิ่งที่ไม่ได้เกิดขึ้นง่ายๆ โดยเฉพาะในองค์กรใหญ่ที่มีมานาน เพราะการเปลี่ยนแปลงจะต้องอาศัยความเข้าใจและความร่วมมือของคนในองค์กรมาช่วยกัน บางคนที่ทำงานมาก่อน ก็เกิดความรู้สึกต่อต้านกับงาน data scientist เพราะรู้สึกเหมือนตัวเองกำลังจะถูกแทนที่ หรือยังมีข้อกังขามากมายว่าตำแหน่งนี้จะมาช่วยบริษัทได้จริงๆ เหรอ ทำไมเราต้องให้ความสำคัญ หรือต้องลงทุนมากมายเพื่อ data scientist ด้วย product จริงๆ ของบริษัทเราไม่ใช่งานทางด้านข้อมูลซะหน่อย สิ่งเหล่านี้ก็ได้สร้างแรงเสียดทานต่อคนทำงาน data scientist ในองค์กร ทำให้การทำงานยากขึ้นไปอีก4. หลายๆ คนยังขาดประสบการณ์ทางด้าน data scienceงานด้าน data scientist ถือว่าก็ใหม่มากๆ ในเมืองไทย ถ้าย้อนกลับไปเมื่อ 3–4 ปีที่แล้ว คำว่า data scientist แทบจะไม่ปรากฎอยู่ในตำแหน่งพนักงานบริษัทในไทย ซึ่งก็เพราะความที่มันเป็นงานที่เพิ่งจะมีมาใหม่ มันก็เลยยากที่จะหาคนที่จะมีประสบการณ์ด้านนี้หลายคนที่อยากจะฝึกทักษะด้าน data science ก็เลยใช้วิธีศึกษาคอร์สออนไลน์ หรือคอร์สเรียนในสถานศึกษาต่างๆ และทำตาม tutorial การบ้าน หรือโปรเจคต่างๆ ที่คอร์สเรียนนั้นได้กำหนดไว้ให้เป็นการฝึกฝีมือ แต่ … ข้อมูล หรือปัญหาต่างๆ ที่อยู่ตามคอร์สเรียนส่วนใหญ่ก็จะมีวัตถุประสงค์หลักๆ คือ เพื่อให้เห็นภาพและเข้าใจการทำงานของโมเดล ดังนั้นข้อมูลหรือปัญหาที่เค้าเตรียมให้ ก็มักจะไม่ได้มีความซับซ้อนเหมือนกับปัญหาหรือข้อมูลจริงในชีวิตการทำงาน หากจะนับเป็นประสบการณ์ทำงาน บริษัทก็อาจจะมองว่า โอเค คุณอาจจะไม่ได้มาแบบเริ่มจากศูนย์ แต่ก็ไม่ได้มีประสบการณ์ในการทำงานบนข้อมูลจริงหรือปัญหาจริงอยู่ดี หลายๆ คนหลังจากจบคอร์สเรียนมาใหม่ๆ พอได้มาทำงานจริงๆ เจอปัญหาจริง ก็จะงงๆ ว่า ควรจะต้องใช้โมเดลไหน จะออกแบบการทดลองยังไง จะวัดค่าแบบไหนดีอีกปัจจัยนึงที่ส่งผลทำให้เราขาดคนมีประสบการณ์ในงานสายนี้ ก็คือ เราไม่ค่อยมีฐานข้อมูลขนาดใหญ่ให้คนทั่วไปได้มาทดลองใช้กัน ในขณะที่เรามีคอร์สเรียนออนไลน์มากมายเต็มไปหมด แต่ฐานข้อมูลที่จะให้มาฝึกฝนกลับไม่ค่อยมี สุดท้ายที่เราได้มาก็เพียงแค่ความรู้จากในคอร์สเรียน ได้ทดลองกับแค่ข้อมูลที่ทางคอร์สเรียนจัดเตรียมมาให้สวยๆ แต่ยังไม่มีโอกาสได้ทำบนข้อมูลจริงอยู่ดี5. ยังมีคนที่เน้นทักษะด้านเดียวอยู่เป็นจำนวนมากงานของ data scientist นั้น จะมีหลักๆ อยู่ 3 ส่วน คือ การเขียนโปรแกรม คณิตศาตร์ (รวมไปถึงส่วนที่เป็น machine learning ด้วย) และหลักสถิติ ทั้ง 3 ส่วนนั้นมีความสำคัญเป็นอย่างมากสำหรับงาน data science แต่ปัญหาในตอนนี้ก็คือ มันช่างยากเหลือเกินที่จะเจอคนที่มีทักษะครบที่ต้องการ ตัวอย่างที่พบบ่อยๆ คือกลุ่มคนที่มีทักษะในด้านการเขียนโปรแกรมเป็นอย่างดี แต่ขาดความรู้ในด้านคณิตศาสตร์ และหลักสถิติ หลายคนในกลุ่มนี้ก็จะอาศัยการ import library ที่มีทั่วไปมาใช้แก้ปัญหา แต่ไม่ได้สนใจในหลักคณิตศาสตร์ หรือหลักสถิติภายในของโมเดลที่เรียกใช้ มาถึงตรงนี้ หลายคนอาจจะเถียงในใจว่า ก็ไม่เห็นจะเป็นอะไร ก็ลองมันทุกโมเดลที่มี แล้วเลือกอันที่ดีสุดก็พอ อันที่จริง มันก็ไม่ได้ง่ายอย่างนั้น ตัวอย่างเช่น โมเดลบางอย่างที่เลือกมา หากตัวสมการข้างในมันไม่ได้ make sense อะไรกับข้อมูลหรือปัญหาที่มี แต่ว่าได้ผลออกมาดี ผลที่ได้ออกมาก็อาจจะเป็นแค่เพียงความบังเอิญเท่านั้น พอได้เอาไปลองกับ product จริงๆ ก็อาจจะได้ผลออกมาไม่ตรงกับที่ทดลองไว้ อีกอย่างการรู้ถึงการทำงานภายในของโมเดล ก็จะช่วยให้เราสามารถวิเคราะห์ต่อไปได้ว่า ทำไมผลออกมาถึงไม่ดี และจะต้องทำอย่างไรต่อเพื่อให้ได้ผลที่ดีขึ้น ในส่วนของการทดลองก็ต้องอาศัยความรู้ของหลักสถิติมาช่วยวิเคราะห์ เพราะพอเราตั้งสมมุติฐานของเราขึ้นมาและเอามาทดลองจริงบน product ของเรา ก็ต้องมาใช้ความรู้ของทางสถิติมาประเมินว่าผลที่เกิดขึ้นจากสมมุติฐานของเรานั้น มันมีผลต่อ product จริงๆ หรือไม่ รวมไปถึงว่า เราได้ควบคุม bias ในการทดลองได้สมเหตุสมผลแล้วหรือยังกลุ่มคนที่เก่งในหลักสถิติ และคณิตศาสตร์มาก แต่ไม่ถนัดการเขียนโปรแกรม คนกลุ่มนี้จะสามารถเอาความรู้ที่ตัวเองมีมาใช้ในการออกแบบโมเดล การทดลอง หรือการวัดผลได้ แต่ … ต่อให้มีความรู้หรือไอเดียที่ดีแค่ไหน ถ้าไม่สามารถเขียนออกมาเป็นโปรแกรมได้ มันก็เป็นเพียงแค่ไอเดีย ไม่ใช่ product จริง หลายคนคิดว่า ไม่เป็นไร เดี๋ยวเราไปพึ่งโปรแกรมเมอร์เก่งๆ ให้ช่วยเขียนโค้ดให้ แต่การที่จะถ่ายทอดความรู้หรือไอเดียดังกล่าวไปให้กับโปรแกรมเมอร์ได้ ก็ต้องหาโปรแกรมเมอร์ที่เข้าใจการทำงานของโมเดลที่เราคิดเอาไว้เช่นกัน ซึ่งมันก็จะกลับมาที่ว่า เราเลยต้องการคนที่เขียนโปรแกรมได้ และมีความรู้ในเรื่องของคณิตศาสตร์ และสถิตินั่นเองจริงๆ แล้ว ปัญหานี้อาจจะมาจากสาเหตุที่ว่า ความรู้หลักๆ ที่จะใช้ในงาน data science ได้ถูกสอนกันแบบกระจัดกระจายตามคณะที่แตกต่างกันในมหาวิทยาลัย เราก็เลยมักจะเจอคนที่เก่งคณิตศาสตร์ เก่งสถิติ แต่เขียนโปรแกรมไม่ได้ เพราะในคณะที่เรียนมาไม่มีวิชานี้ หรือในขนาดเดียวกันก็เจอคนที่เก่งเขียนโปรแกรม แต่ไม่ได้มีโอกาสได้เรียนสถิติอย่างแน่นๆ เท่าไหร่แก้ปัญหายังไงดีปัญหาหลักๆ ก็คือ ต้องการคนที่มีทักษะ และประสบการณ์ในด้าน data scientist มาเพิ่มในตลาดแรงงาน จริงๆ เรามีคนมากมายที่พร้อมจะพัฒนาทักษะ และหาประสบการณ์ให้ตัวเอง แต่คนเหล่านี้ก็ไม่รู้จะฝึกทำได้ที่ไหน อย่างแรกเลยข้อมูลให้ใช้ก็ไม่ค่อยจะมี จะเข้าไปทำงานในบริษัทก็ลำบาก เพราะบริษัทต่างๆ ก็ไม่เบือนหน้าหนีคนที่ไม่มีประสบการณ์ในด้านนี้มาก่อนทางที่พอจะแก้ได้ คงต้องให้องค์กรต่างๆ ทั้งในส่วนของทั้งสถานศึกษา และบริษัท มาช่วยกันสร้างโอกาสให้คนที่อยากทำงานด้านนี้ได้ลองมาศึกษา และหาประสบการณ์จริงบ้าง มาถึงตรงนี้อาจจะมีคำถามว่า แล้วจะให้โอกาสยังไงล่ะ จะให้บริษัทอยู่ๆ รับคนแบบใครก็ได้มาทำงาน ก็คงจะไม่ดีต่อบริษัทเท่าไหร่ จริงๆ แล้ว โอกาสที่ว่าไม่ได้จำกัดอยู่แค่เพียงทำงาน full-time ในบริษัทเท่านั้น แต่มันเป็นโอกาสในด้านอื่นๆ ได้ด้วยเช่นกัน ลองคิดง่ายๆ สิ่งที่บริษัทใหญ่ๆ มีให้ ก็คือ ข้อมูลที่มีขนาดใหญ่ ปัญหาจริง และความรู้ทางด้าน business ที่มีอยู่แล้วภายใน สำหรับในส่วนของสถานศึกษา ก็มีความรู้ทางด้านวิชาการต่างๆ ที่เกี่ยวข้องกับงาน data science หากเรารวมสิ่งที่บริษัท และสถานศึกษาเหล่านี้มีให้ได้ ก็จะเป็นโอกาสที่ดีของคนทั่วไปที่จะได้เรียนรู้ทั้งด้านวิชาการ ได้ทดลองกับข้อมูลจริง และปัญหาจริงน้องปันเจได้เขียนในบล็อก ส่องปัญหาวิกฤติโปรแกรมเมอร์ไทย แก้อย่างไรดี? ในเรื่องของ bootcamp นั่นก็เป็นอีกทางหนึ่งที่จะช่วยพัฒนาทักษะ และสร้างประสบการณ์ให้คนในสายงานนี้ให้มีมากขึ้น บริษัทและสถานศึกษาอาจจะร่วมมือกันในรูปแบบของ bootcamp แบบแน่นๆ ที่เปิดโอกาสให้คนที่สนใจงาน data scientist ได้ลองศึกษาและทำ workshop จริง เป็นเวลาสัก 3–4 เดือน ก็จะช่วยสร้าง data scientist ที่มีคุณภาพมาสู่ตลาดแรงงานได้มากขึ้นนอกจากในส่วนของ bootcamp แล้ว อย่างที่กล่าวไปแล้วว่าปัญหาที่เป็นอุปสรรคของการพัฒนาทักษะของคนที่อยากเป็น data scientist คือ ขาดข้อมูลขนาดใหญ่ ที่จะให้ได้มาลองใช้จริง คงเป็นสิ่งที่ดีมากๆๆ ถ้ามีบริษัทได้เปิด open dataset ให้คนภายนอกได้มาลองใช้ลองทำ เพราะการพัฒนาทักษะต่างๆ คงเกิดขึ้นได้ยาก ถ้าเราไม่มีข้อมูลให้ได้ลองใช้ แต่หากมองในมุมมองของบริษัทใหญ่ ก็ย่อมเป็นที่หนักใจ เพราะข้อมูลภายในหลายอย่างถือเป็นความลับมากๆ อยู่ จะให้ปล่อยออกสู่ภายนอก ก็ต้องเป็นอะไรที่ต้องถกเถียงกัน โดยเฉพาะในเรื่องของ privacy และยิ่งถ้าข้อมูลนั้นเกี่ยวข้องกับตัวลูกค้า หรือ ข้อมูลนั้นมีลิขสิทธิ์อยู่ ความยากในการเปิด open dataset ยิ่งยากขึ้นไปอีก แต่นั่นแหละ หากไม่มีใครให้การสนับสนุนในการสร้าง data scientist ที่มีคุณภาพขึ้นมา ปัญหาในการหา data scientist ก็จะมีแบบนี้อยู่ต่อไป การร่วมมือกันทั้งในส่วนของบริษัท ภาครัฐ และสถานศึกษา อาจจะเป็นสิ่งที่ต้องช่วยกัน เพื่อให้เราได้มี data scientist ที่มีคุณภาพเกิดขึ้นในเมืองไทยมากๆฝากถึง Young data scientistMindset เป็นเรื่องที่สำคัญ สิ่งที่ data scientist จะต้องมี คือ ความเป็น learner เพราะเทคโนโลยีในงานด้านนี้มีให้อัพเดทกันอยู่เรื่อยๆ data scientist จะต้องคอยรีเฟรชความรู้ใหม่ๆ อยู่เสมอ หากไม่คอยติดตามทำความเข้าใจในเทคนิคใหม่ๆ อยู่เรื่อยๆ ก็อาจจะตามโลกไม่ทัน ที่สำคัญ อย่ามัวแต่ให้ความสำคัญกับทักษะเพียงด้านใดด้านหนึ่ง คนที่เขียนโปรแกรมได้ดี ก็อย่าไปกลัวหรือหลีกเลี่ยงเวลาเห็นสมการยากๆ แต่ให้พยายามทำความเข้าใจกับมัน เช่นเดียวกันกับคนที่รู้เรื่องคณิตศาสตร์ หรือสถิติ ก็อย่าหลบเลี่ยงการเขียนโปรแกรม แรกๆ มันอาจจะดูติดขัดเพราะว่าไม่เคยทำ หรือไม่คุ้นชินมาก่อน ซึ่งก็เป็นเรื่องธรรมดาเวลาจะเริ่มต้นอะไรใหม่ๆ แต่พอมีพื้นฐานที่ดี ต่อไปก็จะสามารถทำความเข้าใจอะไรได้ง่ายขึ้นเองอีกเรื่องคือ ความมี passion ในงานด้าน data scientist หลายๆ คนให้เหตุผลว่าอยากทำงาน data scientist เพราะดูเงินเดือนดี งานดูเป็น trend ที่กำลังมา และดูมั่นคงดี มันก็อาจจะไม่ได้ผิดซะทีเดียว แต่หากเราเลือกงานจากความนิยมในท้องตลาดแต่ไม่ได้มี passion หรือความสนใจที่แท้จริง สุดท้ายมันก็คือทำงานแบบไปวันๆ ยิ่งงาน ด้าน data science เป็นงานที่ต้องใช้ความคิดอยู่เสมอ ไม่ได้มี solution ที่ตายตัว พอเปลี่ยนข้อมูล เปลี่ยนปัญหา ก็ต้องมานั่งคิดใหม่อยู่เรื่อยๆ หากเราไม่ได้มี passionในด้านนี้ สุดท้ายมันก็อาจจะเป็นแค่ทำไปเรื่อยๆ ไม่ได้ปรับปรุงหรือพัฒนาอะไรขึ้นมาอีกอย่างที่สำคัญ คืออย่ามองข้ามการทำความเข้าใจในส่วนของ business ด้วย งานด้าน data scientist ในองค์กร จุดประสงค์หลักๆ มีเพื่อช่วยแก้ปัญหาให้ business หรือช่วยไกด์ทางให้ business หากเรามันแต่ทำโมเดลเอามันส์อย่างเดียว แต่แก้ปัญหาหรือสื่อสารกับ business ไม่ได้ ก็จะไม่มีประโยชน์ ทักษะอีกอย่างคือ ทำยังไงถึงจะสร้างจุดเชื่อมต่อระหว่างข้อมูล กับ ปัญหาทาง business ได้ด้วยก็สำคัญด้วยเช่นกันบทสรุปปัญหาที่ตลาดยังขาดแคลน data scientist อยู่นั้น มันก็เกี่ยวข้องกันมาจากหลายๆ ส่วน หลายบริษัทกำลังอยู่ในช่วงตั้งทีม data scientist ขึ้นมาภายในองค์กรอย่างพร้อมๆ กัน ต่างก็อยากได้คนเก่งที่มีประสบการณ์ด้าน data scientist แต่คนที่มีประสบการณ์หรือมีทักษะทางด้าน data scientist กลับมีจำนวนไม่เพียงพอกับความต้องการ ส่วนหนึ่งก็เป็นเพราะตำแหน่งด้านนี้ยังใหม่มากในไทย เราเลยยังขาดคนที่มีประสบการณ์และทักษะในด้านนี้การแก้ปัญหาอาจจะต้องอาศัยความร่วมมือของหลายๆ ส่วน ทั้งในส่วนของบริษัท และสถานศึกษาในการช่วยส่งเสริมและพัฒนาทักษะของคนที่สนใจในงานด้านนี้ การร่วมมือกันก็ทำได้หลายแบบ ทั้งในส่วนของการให้ open dataset มาช่วยในการศึกษา หรือการเปิดเป็น bootcamp, workshop หรือ community ที่มาแลกเปลี่ยนความรู้ และมุมมองกันก็ได้ ทั้งนี้ก็เพื่อจะสร้าง data scientist ที่มีคุณภาพมาสู่ตลาดแรงงานมากขึ้นสำหรับปัญหาในส่วนของ data scientist เอง หลายๆ คนยังมองงาน data scientist เพียงแค่ด้านเดียวแล้วก็สนใจแต่เพียงทักษะในด้านนั้นอย่างเดียว ส่งผลให้ทำงานออกมาแบบได้ประสิทธิภาพไม่เต็มที่ หรืออาจจะทำให้ตีความผลที่ออกมาแบบผิดๆ ได้ (อย่าลืมว่า งาน data scientist ช่วยองค์กรได้มากมายก็จริง แต่ถ้าตีความไม่ถูกต้องหรือขาดความเข้าใจ ก็ทำให้ misleading ได้ด้วยเช่นกัน)ในส่วนของ young data scientist เอง ก็ต้องสร้าง mindset ที่ดี ต้องมีใจที่อยากจะทำงานด้านนี้ และอยากเรียนรู้ส่ิงใหม่ๆ อยู่เสมอ ทำด้วยความอยากรู้อยากลอง แม้ว่างานด้านนี้จะมีเงินเดือนที่น่าดึงดูดใจ แต่คงจะดีกว่ามาก ถ้าคุณเลือกที่จะทำงานนี้ด้วย passion จริงๆ มากกว่าแค่เพียงด้วยเงินเดือน หรือ ความนิยมในตอนนี้ :-)Acknowledgment : บทความนี้คงขาดเนื้อหาหลายส่วนหากไม่ได้ Sorawit Saengkyongam (James) มาร่วมแชร์ความคิดเห็นและคอมเมนท์ในเรื่อง data scientist ขอขอบคุณมา ณ ที่นี้ด้วย :D\""
   ]
  },
  {
   "cell_type": "markdown",
   "metadata": {},
   "source": [
    "<img src=\"ds-th.png\" width=\"800\">"
   ]
  },
  {
   "cell_type": "code",
   "execution_count": 32,
   "metadata": {},
   "outputs": [
    {
     "name": "stdout",
     "output_type": "stream",
     "text": [
      "774.84 sec\n"
     ]
    }
   ],
   "source": [
    "print(readTime(test_text3,0),'sec')"
   ]
  },
  {
   "cell_type": "code",
   "execution_count": null,
   "metadata": {},
   "outputs": [],
   "source": []
  }
 ],
 "metadata": {
  "kernelspec": {
   "display_name": "Python 3",
   "language": "python",
   "name": "python3"
  },
  "language_info": {
   "codemirror_mode": {
    "name": "ipython",
    "version": 3
   },
   "file_extension": ".py",
   "mimetype": "text/x-python",
   "name": "python",
   "nbconvert_exporter": "python",
   "pygments_lexer": "ipython3",
   "version": "3.6.3"
  }
 },
 "nbformat": 4,
 "nbformat_minor": 2
}
